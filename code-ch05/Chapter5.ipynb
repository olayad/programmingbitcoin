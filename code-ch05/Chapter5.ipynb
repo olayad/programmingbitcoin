{
 "cells": [
  {
   "cell_type": "code",
   "execution_count": 2,
   "metadata": {},
   "outputs": [],
   "source": [
    "############## PLEASE RUN THIS CELL FIRST! ###################\n",
    "\n",
    "# import everything and define a test runner function\n",
    "from importlib import reload\n",
    "from helper import run\n",
    "import ecc\n",
    "import helper\n",
    "import script\n",
    "import tx"
   ]
  },
  {
   "cell_type": "markdown",
   "metadata": {},
   "source": [
    "### Exercise 1\n",
    "\n",
    "Write the version parsing part of the `parse` method that we've defined. To do this properly, you'll have to convert 4 bytes into a Little-Endian integer.\n",
    "\n",
    "#### Make [this test](/edit/code-ch05/tx.py) pass: `tx.py:TxTest:test_parse_version`"
   ]
  },
  {
   "cell_type": "code",
   "execution_count": 3,
   "metadata": {},
   "outputs": [
    {
     "name": "stderr",
     "output_type": "stream",
     "text": [
      "."
     ]
    },
    {
     "name": "stdout",
     "output_type": "stream",
     "text": [
      "***** Tx ******\n",
      "inputs[0025bc3c0fa8b7eb55b9437fdbd016870d18e0df0ace7bc9864efc38414147c8:0]\n",
      "***** Tx ******\n",
      "inputs[2ee53f3bf34f6864f00dd08e9b2f2b9287d3cc250f99ef33150e98a9dfa447e0:0]\n",
      "***** Tx ******\n",
      "inputs[e8cb5b22805b54a291f53521cb2d9dcdf619108f77112ff797bd33c36966b242:24, 129c99316a96d097d3aa968eb199ca12208ddcc1200ae338cf33d265088116e0:99, b7587f34efe504012acc1f7f20bac6eb0e9369dda0478c3e638d14f02188dc3b:1, f03994b66c50d9ecac07d2d3b4780cfd058e6d4c53897ed2eccae444d105cc81:1, a04728cf7c0cad8422c2b3f2d1e12d318ac6723e2de7d11c650bdac1bfa4ad43:0, 7bf966d092b505c4e05e3407589457aafa0e37704ed8acd40c490d84134577b0:1, 76f4e96952251aeb7a3bdb792b3e852c3f1b35c4249f2355d86ac096c89d71c5:0, f7a93bab640ce4ea5cf45d30611b7b0d46d5f228f13f7c29892036747b1d781e:0, d912472e9b15a3c03cfcd5f141ecda41cee815b900c8a7edc25e7057d3a6bfdd:5, 5d93f6bbe2c8a43cf8a0fd83039ab0c96f6312184463b520d2252e4cc2eb7a38:0, 06a726f067ac53a1d5f630ef20dd4461b5f51897f9247bbe8be021beb11cf78f:1, 949501a10b705f978aa5bd0ff9310354213933a4caf81e28e7e7f590c8d91b81:0, a4cf88ca8624a79d78a515f8ed3c034573a4be1b2a1dce34549fa749ecd1b552:0, 8adf55ecc876da46d76ea48421d720f1a26e51eb41c4a8de6e8eea95d899d49d:0, 0dc004010957f743042a7ec3ac1cc23329d83768c5ecc853ca44839f5cc7043e:69, 9cb69c2101bd355dc67285c54b91ca57255efc69769364fd242bfd6420c79413:0, 92d693ff87d788689ead031d33037bc234265d547f409a68f094081aedd79f69:0, 0dc004010957f743042a7ec3ac1cc23329d83768c5ecc853ca44839f5cc7043e:83, 024641958e3a18d52cea4edbef3501d980dd3e66213c0191415709c09e0bf99d:0, c961b93af1e089758d840bceefb1cc86367ab96dbebb0b29cd0538499761ca58:1, 75b6759edb052c5a07e16c06f15e5830b2bfbfd5a17fc66d7aa62c1b070ef319:0, 2f3c8be5e6fcbb86593b30c3d9b2095d2dbaaf94775500e07cf20c041e41b9ba:0, 4b053f7f695767c43586babc056481b32e54ff3c4d44c0a3e1210fef28ab4ad0:0, 526ddbc873bd510324399da20659b543e3f1807b882701e7ef74bd8b80994d03:0, 456d0c2bfc3294a803fe2e08ca38c4e7cf891a7b453f3b74687a7ef6e06457fb:0, 5d140619de97a67cb518e7420d44b6b0c3b0ee230c555b4957438365f903b363:1, fa2f3b7dfa26d6a786a6655f97512f070c32a3287677c43f7c89f4e7b117a5c6:0, c8ae62274c79e1fdc8863e52cb903f431ae591328549556d756635257e3fb751:1, fcb0194643795aca574d7f3a2da63e0620b72fa22131fe4db454074b4eba4457:1, 54fdcc963a03c26963c1ea574abaa4ded52374136bdf4dcd1eaa3c1bffeba3eb:0, fea7890dc7fa2cfbf4b74cb982789551ddccb2a58c423963b0c5c6bd733c39d5:0, cec6e98c6e0063411a83de992e462fed8996f5b1e1db63dc5cbe5d09979f5f00:1, 9c67a0d935f013dc3489d30295277eff8255d99d7f4c1c160b36ca4601533193:0, 7afa95f982c49935e01b1f1bdf12c041afa40c16304d44dcedaeecae709c14ff:1, ad336d61e0cda09570501f6db6485d6732c0e79b804c0bad14a1a1fb8d350816:0, 5a3125be61cc278203cc226eb12ae577a9b388f2e2d8d906b90a0f40ed607456:2, 5c6d118903dd8d2a5ccc1dadc55197c54ac07d6e11d9f83bf5e6b7c4733329c9:0, c64fa9c0302f2c89889eb8ee2c549b335f93c31a4d4440e64177bc0dbfa7bc8a:1, 1d8f2ef61c84fce69d1e8c1da60b488462230f7eb87eb8cf81560edd409f5d41:1, 7d67180d8f51623cdee5a22adc3ef960f854a23c92439027e61cf7beb97b38fe:0, 0c51b2cb178d31679fa33af8a2e3992c08bae017b787d6d3d17c323ca93db918:1, efba902d7755881b11ad15ee97251e324031f5ba6ba65f87abdb25bd838fe55f:0, c88d5e904714e1dcbdc52a4b36d54c7e2cb42e193f192c29f27cacb3b600c4f7:0, a9667a57a5badeb91c5d73f17c3b5793d3025c17c9f652e8e588ae7151c2da79:0, 350565d52b47eeebaeb8665b9778569515651ba3a314e86a07cbd17a72152dd5:0, ee6b07ed4b37fa2391164d60e3ff17764fb164cc44a21c23bca3076285f7c5f4:1, 093533b3534f33df3873bf94e84130b1709ec78fc7b4c774b53836387119c9d3:0, d033b587aa87bff52da0425d5a7e03bfe85ed4fc57a9c3b7737e1035530115b0:0, 7e65034f8e49ad5c8467d131235f4904a0324917477927adbec5563c83808048:1, f27fa4aca80c7b861576e35720a47ab14f354328e6ae4ecc3483bd556294f293:0, 2ccae71d1e400a7f8772de4f4a2f89b4a78ebebccbbfdf72cc93105229a29e80:0, 08a579fdb953ea0ab01f5de72288d001d89bea2dc09d7fefd3a490d4631bfbcd:1, 821e916081dcdae76926e2d522cf4fc4b9fd5199a66173d848219163e3d6eb3c:0, 704798db2e1b84a4119171f1e7f8d126fa786f2703ff34b42dab4f431226c415:1, 02191eb0f81f67e44ac226b1068e6fa0e91983bc329cfde0c91e268931f765de:0, a9fa4a7a3f575daa6c766d92b4c254b7ff674bbe19abffea203257c2f59a0932:4, 983fffe6128fe0650f489ace9d0b7f03a49c15a4fec5d17aeca191e8fa37e4c6:1, 9e9df36a3962007633e673e5e5f9c7ea2826e69caa1cfe8a3e32d3679cd13e87:1, 0dc004010957f743042a7ec3ac1cc23329d83768c5ecc853ca44839f5cc7043e:64, 9909839811038501bfced0c35ba22840c728f124c4f66fdd464ec58ee36484a5:0, 373a36e30b21215124c111dffc17afad962cd437246c9a2a0f84b53ba5c432bb:0, b2135ed53e51e067b65529dd297178f105fda0664da86463b5b0f58a915e673b:1, 5e154bac41add1a285c97f55e752ff15306e454605563496a20952a4e5613fe8:30, db81db2803ce671bbdc8011d43fe380812aaa3f1cfd45b1e6ab4b1c4e01c39a0:0, dc1051521694970ba5550872ff7be05f9b26cecfbb609a45ce608a639e1f9944:1, 13fc12cfac618c94ec239571c8727683b2df87f2fa9a67775e229daaac192257:1, 6894286249bc624466598fad0826c011d1f03f4e22b08ed6d33ca4f8a3405b45:0, b8ae22b3a2b201756a724e91876e77769e67b11730b5ba719303e6c42162c70b:0, 7b5ad493650c7e806cd42c34a36620e14931cb07ed9b55ec098c7b77a97e5a6b:0, d99472f4d6166c15f25c7f4130c15f54d0fdbc1659183edc1ad3be85ff2a1593:0, 67a118bfb343aebf590d8deccb9afcffd3a0ac8a5f4afe079cb581f5255f65a6:0, 4337a3b8af302c777d98f87f8d41901f85c65cb382f134582df2376d5f07c480:0, a9fa4a7a3f575daa6c766d92b4c254b7ff674bbe19abffea203257c2f59a0932:1, 232b8834872c796a21824ab57f2e227d8975b2767332fda9666a0284108f8efe:0, 28f85e0533110b1e7c79a98c9ed5779c1ec02b9daa43fef928c9bbdfa474e58a:1, 385bc8121262d87a86cd09cc78260efa148ce2ec3f91d97576c07935b51ba7dc:0, e1cd0d466a695fb59340971294f804a68cc92593753ec07b315e27bece8e760a:1, 57ef0986dfb354ceb1b809b95aef8b2e265299a1cf8acdcd1cb211b627e9892e:0, 73f0c0bf29ede52a8d3381ed6fdea8eeed4ca6d5fb0e92878d6bbb02a919b5c0:13, 87229ccf66b5f02a25d7f24bb45425af035edf31022cff87495e3e42b6247824:1, b6a20a6b1a4aad4cde177674424c6ce2a6ef57140bd99e8313ebae869dfb661c:0, 65361ade31a563223c1c55f2e6bd4a9f505f1890f30c3adf2354cc6a838782e1:0, fa7d2ee5275c7e7a64299f4e81a3ccfb028ca8238f43aa233f8c6785865c7637:1, dcd9fdfc37caccc3fd771674d507a5bd46ec0543bce4d765f68e6dae71dac3dd:1, 7cd3b4c4b7f313ee22b37e0a0ad40f90eb266520282ab354e015cf958ec5a071:1, b26307cd88153ba788e5e521c116a4c1c2d5a7f899447b545f180dc15996c38c:0, 7a376c8f02aadf86e700e870eb0ef3bb75c6a575a3e619d72cff98ae3a7aa1e8:1, 7d85b6180ebcc5ed819945ed2d9ca5474484c25797b9478a195d421e9fcd9501:0, 7fac39f229abf64449b5807331c19712436841a34c9b8975667f0355a5f256de:0, 1936defe6f2f4676c3af1202ae9bdb6929a8f754360216d92479a02f07d726eb:1, 14f5d2fd5ab954737354aaa8839703b86e607c3762eeac89c3b3811fe2b09d14:5, d5db7fdff2025c9680b4118258b088c8df66cc70b3d7c5c7d999ed25bef39092:0, ae8cab3e9a536c597eecde3dc92e4cc7a556b06163b55e72fec2278c1a447e3d:0, 5df74ee15f4f2fe981a40b325f0d89c09efc03f26a0cd0098b0cc8be3e770e35:0, 9b99aac459fdf4ca3969cc71e917889aa9d4ec89292d4f565a49d57415ae4674:0, b91946cd3ebf513b3ceeef116250fd40d30b1ef013d033fb076414c888310166:1, 2dd17326651d7efee4693dce0bf66408f333673ab4cc7c8b50a023f29efc4fac:0, aa3121f4d0afac16e169ab8f5b58942d93d112c38a942ad656bbc92d1b93737d:1, 7dc6c7a31b35a841bb1a4a64d18ef2e8afe29dcef1df35c877528c0ee1c45b08:0, 99dd45de933608da39c85dd929c9bccd0cde3614db149eb8937012ffccfbeda4:1, e738dfde28e461fd9bcb83c690878403f1bba2963c3f92aecab492aeb6059166:58, f274275149964ef1b26cdb7f7046311f0b245c7bb4c4ea2e15fdcbe01983eb16:1, e738dfde28e461fd9bcb83c690878403f1bba2963c3f92aecab492aeb6059166:75]\n",
      "***** Tx ******\n",
      "inputs[4ae159e2272557b4cc262cd230d4a2a067a37baa520ad2e418a8800aee20b0da:0]\n",
      "***** Tx ******\n",
      "inputs[d1c789a9c60383bf715f3f6ad9d14b91fe55f3deb369fe5d9280cb1a01793f81:0]\n",
      "***** Tx ******\n",
      "inputs[362e23678ed0803b639312025c8144ace003a7982a802deb2c369d78f711a32a:1]\n",
      "***** Tx ******\n",
      "inputs[22874d30bde689475e1df03608aa85a3c7b01e18f8d53aedc1b6df6ded788286:26]\n",
      "***** Tx ******\n",
      "inputs[184d3393cea44574a7b521575878a5485fc3c18e4920808235c8f58264c1dc48:0]\n",
      "***** Tx ******\n",
      "inputs[9fe5117556ebcef2aea29fc85bb687167d420ad9ba83cac570b31d73e396acb0:0]\n",
      "***** Tx ******\n",
      "inputs[88eaa80066b1584730abf0910342bf49fc3bc63f0713c2cb9a56434ced4dd567:1, 6d29d467b02d54c425921c3c4d107c7831a7f514663ae6acdd5f6b58bc7ddf5e:1, e14a8b7120788ffc8e50f99d9f43d2282173d183caa2ec4bebda6807b54ea7df:0]\n",
      "***** Tx ******\n",
      "inputs[56f87210814c8baef7068454e517a70da2f2103fc3ac7f687e32a228dc80e115:2]\n",
      "***** Tx ******\n",
      "inputs[56f87210814c8baef7068454e517a70da2f2103fc3ac7f687e32a228dc80e115:4]\n",
      "***** Tx ******\n",
      "inputs[be8d3e69c90cc5017efdb74fd11d42fa7fad6beaed06c58c156fee1f1e0228c2:2]\n",
      "***** Tx ******\n",
      "inputs[42f7d0545ef45bd3b9cfee6b170cf6314a3bd8b3f09b610eeb436d92993ad440:1]\n",
      "***** Tx ******\n",
      "inputs[cbf43825e0b92ba3bfabaec509e14ee9132df1e92ffdfc6636f848fbf0537c13:0, 590133d8ac653229dfd8d72d2a81564502051f21554f919ae59ac27be7727451:1]\n",
      "***** Tx ******\n",
      "inputs[2df7f3474310e88c14b8ec59f61afbbbae9f44a797864ff8723490b9c08047b7:1]\n",
      "***** Tx ******\n",
      "inputs[56f87210814c8baef7068454e517a70da2f2103fc3ac7f687e32a228dc80e115:1]\n",
      "***** Tx ******\n",
      "inputs[d1c789a9c60383bf715f3f6ad9d14b91fe55f3deb369fe5d9280cb1a01793f81:0]\n"
     ]
    },
    {
     "name": "stderr",
     "output_type": "stream",
     "text": [
      "\n",
      "----------------------------------------------------------------------\n",
      "Ran 1 test in 0.005s\n",
      "\n",
      "OK\n"
     ]
    }
   ],
   "source": [
    "# Exercise 1\n",
    "\n",
    "reload(tx)\n",
    "run(tx.TxTest(\"test_parse_version\"))"
   ]
  },
  {
   "cell_type": "code",
   "execution_count": 4,
   "metadata": {},
   "outputs": [
    {
     "name": "stdout",
     "output_type": "stream",
     "text": [
      "3045022100ed81ff192e75a3fd2304004dcadb746fa5e24c5031ccfcf21320b0277457c98f02207a986d955c6e0cb35d446a89d3f56100f4d7f67801c31967743a9c8e10615bed01 0349fc4e631e3624a545de3f89f5d8684c7b8138bd94bdd531d2e213bf016b278a\n"
     ]
    }
   ],
   "source": [
    "from io import BytesIO\n",
    "from script import Script\n",
    "script_hex = ('6b483045022100ed81ff192e75a3fd2304004dcadb746fa5e24c5031ccfcf21320b0277457c98f02207a986d955c6e0cb35d446a89d3f56100f4d7f67801c31967743a9c8e10615bed01210349fc4e631e3624a545de3f89f5d8684c7b8138bd94bdd531d2e213bf016b278a')\n",
    "stream = BytesIO(bytes.fromhex(script_hex))\n",
    "script_sig = Script.parse(stream)\n",
    "print(script_sig)"
   ]
  },
  {
   "cell_type": "markdown",
   "metadata": {},
   "source": [
    "### Exercise 2\n",
    "\n",
    "Write the inputs parsing part of the `parse` method in `Tx` and the `parse` method for `TxIn`.\n",
    "\n",
    "#### Make [this test](/edit/code-ch05/tx.py) pass: `tx.py:TxTest:test_parse_inputs`"
   ]
  },
  {
   "cell_type": "code",
   "execution_count": null,
   "metadata": {},
   "outputs": [],
   "source": [
    "# Exercise 2\n",
    "\n",
    "reload(tx)\n",
    "run(tx.TxTest(\"test_parse_inputs\"))"
   ]
  },
  {
   "cell_type": "markdown",
   "metadata": {},
   "source": [
    "### Exercise 3\n",
    "\n",
    "Write the outputs parsing part of the `parse` method in `Tx` and the `parse` method for `TxOut`.\n",
    "\n",
    "#### Make [this test](/edit/code-ch05/tx.py) pass: `tx.py:TxTest:test_parse_outputs`"
   ]
  },
  {
   "cell_type": "code",
   "execution_count": null,
   "metadata": {},
   "outputs": [],
   "source": [
    "# Exercise 3\n",
    "\n",
    "reload(tx)\n",
    "run(tx.TxTest(\"test_parse_outputs\"))"
   ]
  },
  {
   "cell_type": "markdown",
   "metadata": {},
   "source": [
    "### Exercise 4\n",
    "\n",
    "Write the Locktime parsing part of the `parse` method in `Tx`.\n",
    "\n",
    "#### Make [this test](/edit/code-ch05/tx.py) pass: `tx.py:TxTest:test_parse_locktime`"
   ]
  },
  {
   "cell_type": "code",
   "execution_count": null,
   "metadata": {},
   "outputs": [],
   "source": [
    "# Exercise 4\n",
    "\n",
    "reload(tx)\n",
    "run(tx.TxTest(\"test_parse_locktime\"))"
   ]
  },
  {
   "cell_type": "markdown",
   "metadata": {},
   "source": [
    "### Exercise 5\n",
    "\n",
    "What is the ScriptSig from the second input, ScriptPubKey from the first output and the amount of the second output for this transaction?\n",
    "\n",
    "```\n",
    "010000000456919960ac691763688d3d3bcea9ad6ecaf875df5339e148a1fc61c6ed7a069e0100\n",
    "00006a47304402204585bcdef85e6b1c6af5c2669d4830ff86e42dd205c0e089bc2a821657e951\n",
    "c002201024a10366077f87d6bce1f7100ad8cfa8a064b39d4e8fe4ea13a7b71aa8180f012102f0\n",
    "da57e85eec2934a82a585ea337ce2f4998b50ae699dd79f5880e253dafafb7feffffffeb8f51f4\n",
    "038dc17e6313cf831d4f02281c2a468bde0fafd37f1bf882729e7fd3000000006a473044022078\n",
    "99531a52d59a6de200179928ca900254a36b8dff8bb75f5f5d71b1cdc26125022008b422690b84\n",
    "61cb52c3cc30330b23d574351872b7c361e9aae3649071c1a7160121035d5c93d9ac96881f19ba\n",
    "1f686f15f009ded7c62efe85a872e6a19b43c15a2937feffffff567bf40595119d1bb8a3037c35\n",
    "6efd56170b64cbcc160fb028fa10704b45d775000000006a47304402204c7c7818424c7f7911da\n",
    "6cddc59655a70af1cb5eaf17c69dadbfc74ffa0b662f02207599e08bc8023693ad4e9527dc42c3\n",
    "4210f7a7d1d1ddfc8492b654a11e7620a0012102158b46fbdff65d0172b7989aec8850aa0dae49\n",
    "abfb84c81ae6e5b251a58ace5cfeffffffd63a5e6c16e620f86f375925b21cabaf736c779f88fd\n",
    "04dcad51d26690f7f345010000006a47304402200633ea0d3314bea0d95b3cd8dadb2ef79ea833\n",
    "1ffe1e61f762c0f6daea0fabde022029f23b3e9c30f080446150b23852028751635dcee2be669c\n",
    "2a1686a4b5edf304012103ffd6f4a67e94aba353a00882e563ff2722eb4cff0ad6006e86ee20df\n",
    "e7520d55feffffff0251430f00000000001976a914ab0c0b2e98b1ab6dbf67d4750b0a56244948\n",
    "a87988ac005a6202000000001976a9143c82d7df364eb6c75be8c80df2b3eda8db57397088ac46\n",
    "430600\n",
    "```"
   ]
  },
  {
   "cell_type": "code",
   "execution_count": null,
   "metadata": {},
   "outputs": [],
   "source": [
    "# Exercise 5\n",
    "\n",
    "from io import BytesIO\n",
    "from tx import Tx\n",
    "\n",
    "hex_transaction = '010000000456919960ac691763688d3d3bcea9ad6ecaf875df5339e148a1fc61c6ed7a069e010000006a47304402204585bcdef85e6b1c6af5c2669d4830ff86e42dd205c0e089bc2a821657e951c002201024a10366077f87d6bce1f7100ad8cfa8a064b39d4e8fe4ea13a7b71aa8180f012102f0da57e85eec2934a82a585ea337ce2f4998b50ae699dd79f5880e253dafafb7feffffffeb8f51f4038dc17e6313cf831d4f02281c2a468bde0fafd37f1bf882729e7fd3000000006a47304402207899531a52d59a6de200179928ca900254a36b8dff8bb75f5f5d71b1cdc26125022008b422690b8461cb52c3cc30330b23d574351872b7c361e9aae3649071c1a7160121035d5c93d9ac96881f19ba1f686f15f009ded7c62efe85a872e6a19b43c15a2937feffffff567bf40595119d1bb8a3037c356efd56170b64cbcc160fb028fa10704b45d775000000006a47304402204c7c7818424c7f7911da6cddc59655a70af1cb5eaf17c69dadbfc74ffa0b662f02207599e08bc8023693ad4e9527dc42c34210f7a7d1d1ddfc8492b654a11e7620a0012102158b46fbdff65d0172b7989aec8850aa0dae49abfb84c81ae6e5b251a58ace5cfeffffffd63a5e6c16e620f86f375925b21cabaf736c779f88fd04dcad51d26690f7f345010000006a47304402200633ea0d3314bea0d95b3cd8dadb2ef79ea8331ffe1e61f762c0f6daea0fabde022029f23b3e9c30f080446150b23852028751635dcee2be669c2a1686a4b5edf304012103ffd6f4a67e94aba353a00882e563ff2722eb4cff0ad6006e86ee20dfe7520d55feffffff0251430f00000000001976a914ab0c0b2e98b1ab6dbf67d4750b0a56244948a87988ac005a6202000000001976a9143c82d7df364eb6c75be8c80df2b3eda8db57397088ac46430600'\n",
    "\n",
    "# convert the hex_transaction to binary\n",
    "# create a stream using BytesIO\n",
    "# use Tx.parse to get the transaction object.\n",
    "# ScriptSig from second input\n",
    "# ScriptPubKey from first output\n",
    "# Amount from second output"
   ]
  },
  {
   "cell_type": "markdown",
   "metadata": {},
   "source": [
    "### Exercise 6\n",
    "\n",
    "Write the `fee` method for the `Tx` class.\n",
    "\n",
    "#### Make [this test](/edit/code-ch05/tx.py) pass: `tx.py:TxTest:test_fee`"
   ]
  },
  {
   "cell_type": "code",
   "execution_count": null,
   "metadata": {},
   "outputs": [],
   "source": [
    "# Exercise 6\n",
    "\n",
    "reload(tx)\n",
    "run(tx.TxTest(\"test_fee\"))"
   ]
  }
 ],
 "metadata": {
  "kernelspec": {
   "display_name": "Python 3",
   "language": "python",
   "name": "python3"
  },
  "language_info": {
   "codemirror_mode": {
    "name": "ipython",
    "version": 3
   },
   "file_extension": ".py",
   "mimetype": "text/x-python",
   "name": "python",
   "nbconvert_exporter": "python",
   "pygments_lexer": "ipython3",
   "version": "3.8.3"
  }
 },
 "nbformat": 4,
 "nbformat_minor": 2
}
